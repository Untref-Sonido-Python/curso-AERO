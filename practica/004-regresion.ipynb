{
 "cells": [
  {
   "cell_type": "markdown",
   "metadata": {
    "deletable": false,
    "editable": false,
    "nbgrader": {
     "cell_type": "markdown",
     "checksum": "a5fd2da17baa698e7334776c981295df",
     "grade": false,
     "grade_id": "cell-9a0c6f7676b49d11",
     "locked": true,
     "schema_version": 3,
     "solution": false
    }
   },
   "source": [
    "Before you turn in this homework, make sure everything runs as expected. First, **restart the kernel** (in the menubar, select Kernel$\\rightarrow$Restart) and then **run all cells** (in the menubar, select Cell$\\rightarrow$Run All).\n",
    "\n",
    "Make sure you execute every single code cell, in order, filling with your solutions in any place that says `YOUR CODE HERE`, and always DELETE the line that says:\n",
    "\n",
    "```python\n",
    "raise NotImplementedError()\n",
    "```\n",
    "The purpose of this line is to tell you if you forgot to answer a question (it will throw an error if the line is there)\n",
    "\n",
    "**IMPORTANT**: DO NOT DELETE ANY CELL.\n",
    "\n",
    "Fill your name below:"
   ]
  },
  {
   "cell_type": "code",
   "execution_count": null,
   "metadata": {},
   "outputs": [],
   "source": [
    "NAME = \"\""
   ]
  },
  {
   "cell_type": "markdown",
   "metadata": {
    "deletable": false,
    "editable": false,
    "nbgrader": {
     "cell_type": "markdown",
     "checksum": "911a40e2ec5d787c125abf6efe5a39c5",
     "grade": false,
     "grade_id": "cell-59d3a7fe49057cfc",
     "locked": true,
     "schema_version": 3,
     "solution": false
    }
   },
   "source": [
    "##  Before you start \n",
    "\n",
    "For this homework, we will need to import some libraries. You only need to execute the following cell once; you don't need to copy this in every cell you run."
   ]
  },
  {
   "cell_type": "code",
   "execution_count": 1,
   "metadata": {},
   "outputs": [],
   "source": [
    "import numpy\n",
    "from urllib.request import urlretrieve\n",
    "\n",
    "from matplotlib import pyplot\n",
    "%matplotlib inline\n",
    "\n",
    "#This library is needed for testing\n",
    "from IPython.display import set_matplotlib_close\n",
    "set_matplotlib_close(False)"
   ]
  },
  {
   "cell_type": "markdown",
   "metadata": {
    "deletable": false,
    "editable": false,
    "nbgrader": {
     "cell_type": "markdown",
     "checksum": "c204eab36033104da2b152b3b4759760",
     "grade": false,
     "grade_id": "cell-5d9f9e0ef869cbf3",
     "locked": true,
     "schema_version": 3,
     "solution": false
    }
   },
   "source": [
    "## Introduction\n",
    "In this homework, you will work with data from the NOAA Earth System Research Laboratory and with data of life expectancy around the world. \n",
    "\n",
    "\n",
    "### NOAA Earth System Research Laboratory data\n",
    "\n",
    "The subject of study is the trend in atmospheric carbon dioxide concentration, a reference to the global greenhouse effect. \n",
    "\n",
    "The measurements were taken at the Mauna Loa Observatory, Hawaii. The data correspond to the year-month, and the monthly mean $CO_2$ mole fraction determined from daily averages. The mole fraction of CO2, in parts per million (ppm), represents the number of molecules of CO2 in every one million molecules of dried air (water vapor removed)."
   ]
  },
  {
   "cell_type": "markdown",
   "metadata": {
    "deletable": false,
    "editable": false,
    "nbgrader": {
     "cell_type": "markdown",
     "checksum": "e3422b615471bfe81a866842da578f7b",
     "grade": false,
     "grade_id": "cell-d2c23940d416e6b7",
     "locked": true,
     "schema_version": 3,
     "solution": false
    }
   },
   "source": [
    "## Importing the data\n",
    "\n",
    "We are going to import the data and assign it to two different numpy arrays named `year` and `co2_avg`. Make sure to execute the cell below before you start."
   ]
  },
  {
   "cell_type": "code",
   "execution_count": null,
   "metadata": {},
   "outputs": [],
   "source": [
    "# Read a dataset \n",
    "\n",
    "filename = 'maunaloa_CO2.csv'\n",
    "url = 'https://raw.githubusercontent.com/engineersCode/EngComp1_offtheground/master/data/maunaloa_CO2.csv'\n",
    "\n",
    "urlretrieve(url, filename)\n",
    "\n",
    "year, co2_avg = numpy.loadtxt(filename, delimiter=',', skiprows=4, unpack=True)"
   ]
  },
  {
   "cell_type": "markdown",
   "metadata": {
    "deletable": false,
    "editable": false,
    "nbgrader": {
     "cell_type": "markdown",
     "checksum": "f257e902ea148222f4ac3dda50979702",
     "grade": false,
     "grade_id": "cell-25207e3fc33f0e8e",
     "locked": true,
     "schema_version": 3,
     "solution": false
    }
   },
   "source": [
    "# Exercise 1 "
   ]
  },
  {
   "cell_type": "markdown",
   "metadata": {
    "deletable": false,
    "editable": false,
    "nbgrader": {
     "cell_type": "markdown",
     "checksum": "67af14e85a4e752e93ead2a5c081a0a6",
     "grade": false,
     "grade_id": "cell-33cb56cbdb5dee98",
     "locked": true,
     "schema_version": 3,
     "solution": false
    }
   },
   "source": [
    "a) Plot the data (`year` vs `co2_avg`). The plot must include:\n",
    "\n",
    "* Title\n",
    "* Label in x-axis\n",
    "* Label in y-axis with units.\n",
    "\n",
    "Remember that if you want to use the `rcParams` module, you will need to import it (and set the parameters) only once in the notebook. "
   ]
  },
  {
   "cell_type": "code",
   "execution_count": null,
   "metadata": {
    "deletable": false,
    "nbgrader": {
     "cell_type": "code",
     "checksum": "1978d219c345136af66f8915adf47c7a",
     "grade": false,
     "grade_id": "cell-7670f9926e6e1003",
     "locked": false,
     "schema_version": 3,
     "solution": true
    }
   },
   "outputs": [],
   "source": [
    "# YOUR CODE HERE\n",
    "raise NotImplementedError()"
   ]
  },
  {
   "cell_type": "code",
   "execution_count": null,
   "metadata": {
    "deletable": false,
    "editable": false,
    "nbgrader": {
     "cell_type": "code",
     "checksum": "ca23db7304247deba7fe20f9a0850ae6",
     "grade": true,
     "grade_id": "1-a_plot",
     "locked": true,
     "points": 5,
     "schema_version": 3,
     "solution": false
    }
   },
   "outputs": [],
   "source": []
  },
  {
   "cell_type": "markdown",
   "metadata": {
    "deletable": false,
    "editable": false,
    "nbgrader": {
     "cell_type": "markdown",
     "checksum": "f6eef19e1f9cd831c6b465ba861fa7a2",
     "grade": false,
     "grade_id": "cell-c2a0bae183d7bcbf",
     "locked": true,
     "schema_version": 3,
     "solution": false
    }
   },
   "source": [
    "b) Using NumPy, perform a linear regression on the data provided using the `Numpy` built-in functions. Name the coefficients `a_1` and `a_0`, and the fitting function returned by `Numpy` should be named `lin_reg`."
   ]
  },
  {
   "cell_type": "code",
   "execution_count": null,
   "metadata": {
    "deletable": false,
    "nbgrader": {
     "cell_type": "code",
     "checksum": "398db2075294d7b23c7d98e46cd6f12c",
     "grade": false,
     "grade_id": "cell-4fcc8404e0f76a18",
     "locked": false,
     "schema_version": 3,
     "solution": true
    }
   },
   "outputs": [],
   "source": [
    "# YOUR CODE HERE\n",
    "raise NotImplementedError()"
   ]
  },
  {
   "cell_type": "code",
   "execution_count": null,
   "metadata": {
    "deletable": false,
    "editable": false,
    "nbgrader": {
     "cell_type": "code",
     "checksum": "6a7553049459c62432902d630ef2f2b2",
     "grade": true,
     "grade_id": "1-b",
     "locked": true,
     "points": 10,
     "schema_version": 3,
     "solution": false
    }
   },
   "outputs": [],
   "source": []
  },
  {
   "cell_type": "markdown",
   "metadata": {
    "deletable": false,
    "editable": false,
    "nbgrader": {
     "cell_type": "markdown",
     "checksum": "f5790e7e3975e001c20f99260cb97c22",
     "grade": false,
     "grade_id": "cell-daeba893bfb2573c",
     "locked": true,
     "schema_version": 3,
     "solution": false
    }
   },
   "source": [
    "c) Plot the data and the linear regression curve. The plot must include:\n",
    "\n",
    "* Title\n",
    "* Label in x-axis\n",
    "* Label in y-axis with units\n",
    "* Legend for the linear regression "
   ]
  },
  {
   "cell_type": "code",
   "execution_count": null,
   "metadata": {
    "deletable": false,
    "nbgrader": {
     "cell_type": "code",
     "checksum": "ac44541d551a6cb707c3394094e51245",
     "grade": false,
     "grade_id": "cell-caccb7301ffb05fe",
     "locked": false,
     "schema_version": 3,
     "solution": true
    }
   },
   "outputs": [],
   "source": [
    "# YOUR CODE HERE\n",
    "raise NotImplementedError()"
   ]
  },
  {
   "cell_type": "code",
   "execution_count": null,
   "metadata": {
    "deletable": false,
    "editable": false,
    "nbgrader": {
     "cell_type": "code",
     "checksum": "f13a5dfce13e09e0fd8eaa5ceae73226",
     "grade": true,
     "grade_id": "1-c_plot",
     "locked": true,
     "points": 10,
     "schema_version": 3,
     "solution": false
    }
   },
   "outputs": [],
   "source": []
  },
  {
   "cell_type": "markdown",
   "metadata": {
    "deletable": false,
    "editable": false,
    "nbgrader": {
     "cell_type": "markdown",
     "checksum": "692c13603d007a1634b399a3835b6e91",
     "grade": false,
     "grade_id": "cell-86ea8bf109d25ce7",
     "locked": true,
     "schema_version": 3,
     "solution": false
    }
   },
   "source": [
    "# Exercise 2\n"
   ]
  },
  {
   "cell_type": "markdown",
   "metadata": {
    "deletable": false,
    "editable": false,
    "nbgrader": {
     "cell_type": "markdown",
     "checksum": "bb7a4cc884043a8fa1d3b168fb9718b7",
     "grade": false,
     "grade_id": "cell-e740bb5e852da9dd",
     "locked": true,
     "schema_version": 3,
     "solution": false
    }
   },
   "source": [
    "a) Compute the deviations between the original data and the estimated values of $CO_2$ concentration obtained using the linear regression. The deviations are computed by subtracting the estimated values from the original data (data - estimation). The result has to be a NumPy array named `error_lin`, computed without using `for` statment. "
   ]
  },
  {
   "cell_type": "code",
   "execution_count": null,
   "metadata": {
    "deletable": false,
    "nbgrader": {
     "cell_type": "code",
     "checksum": "44c7e5d4cfaecb50cb0b64fda88136bd",
     "grade": false,
     "grade_id": "cell-52f3d9b3fd8d26e0",
     "locked": false,
     "schema_version": 3,
     "solution": true
    }
   },
   "outputs": [],
   "source": [
    "# YOUR CODE HERE\n",
    "raise NotImplementedError()"
   ]
  },
  {
   "cell_type": "code",
   "execution_count": null,
   "metadata": {
    "deletable": false,
    "editable": false,
    "nbgrader": {
     "cell_type": "code",
     "checksum": "b2511f9d5667ffd74776d7906d3c8c73",
     "grade": true,
     "grade_id": "2-a",
     "locked": true,
     "points": 5,
     "schema_version": 3,
     "solution": false
    }
   },
   "outputs": [],
   "source": []
  },
  {
   "cell_type": "markdown",
   "metadata": {
    "deletable": false,
    "editable": false,
    "nbgrader": {
     "cell_type": "markdown",
     "checksum": "a9ec0f34912a981ff605379fdf2c9e95",
     "grade": false,
     "grade_id": "cell-07a566daa8859a59",
     "locked": true,
     "schema_version": 3,
     "solution": false
    }
   },
   "source": [
    "b) Plot the `year` vs `error_lin`. The plot must contain:\n",
    "\n",
    "* Title\n",
    "* Label in x-axis\n",
    "* Label in y-axis "
   ]
  },
  {
   "cell_type": "code",
   "execution_count": null,
   "metadata": {
    "deletable": false,
    "nbgrader": {
     "cell_type": "code",
     "checksum": "93a1e34a32928830d6f98be0e9ec88a5",
     "grade": false,
     "grade_id": "cell-0da2c92a13641fa2",
     "locked": false,
     "schema_version": 3,
     "solution": true
    }
   },
   "outputs": [],
   "source": [
    "# YOUR CODE HERE\n",
    "raise NotImplementedError()"
   ]
  },
  {
   "cell_type": "code",
   "execution_count": null,
   "metadata": {
    "deletable": false,
    "editable": false,
    "nbgrader": {
     "cell_type": "code",
     "checksum": "c4216ce84b57ab87a0c8baab927f3158",
     "grade": true,
     "grade_id": "2-b_plot",
     "locked": true,
     "points": 5,
     "schema_version": 3,
     "solution": false
    }
   },
   "outputs": [],
   "source": []
  },
  {
   "cell_type": "markdown",
   "metadata": {
    "deletable": false,
    "editable": false,
    "nbgrader": {
     "cell_type": "markdown",
     "checksum": "871e5adc55a5088ea2d9703cd1b78165",
     "grade": false,
     "grade_id": "cell-168c7e2785ff39fb",
     "locked": true,
     "schema_version": 3,
     "solution": false
    }
   },
   "source": [
    "# Exercise 3\n"
   ]
  },
  {
   "cell_type": "markdown",
   "metadata": {
    "deletable": false,
    "editable": false,
    "nbgrader": {
     "cell_type": "markdown",
     "checksum": "95f541303670b84195189dd478fc1197",
     "grade": false,
     "grade_id": "cell-6e2bc4371de2d922",
     "locked": true,
     "schema_version": 3,
     "solution": false
    }
   },
   "source": [
    "a) Using [`numpy.polyfit()`](https://docs.scipy.org/doc/numpy/reference/generated/numpy.polyfit.html) and [`numpy.poly1d()`](https://docs.scipy.org/doc/numpy/reference/generated/numpy.poly1d.html), perform a quadratic regression (fit to a second-order polynomial) on the CO2 Mauna Loa Observatory data (`co2_avg` vs `year`) . \n",
    "\n",
    "* The coefficients obtained with `numpy.polyfit()`, should be named  `a2`, `a1` and, `a0`. \n",
    "* The fitting function, obtained with `numpy.poly1d()`, should be named `quad_reg`.\n",
    "\n",
    "\n",
    "Remember:\n",
    "\n",
    "``` python\n",
    "numpy.polyfit(x, y, deg)\n",
    "```\n",
    "where:\n",
    "```\n",
    "x : array, x-coordinates of the sample points.\n",
    "\n",
    "y : array, y-coordinates of the sample points.\n",
    "\n",
    "deg : int, degree of the fitting polynomial\n",
    "```\n",
    "\n",
    "If you still have doubts, go to the links provided above to read the documentation.  \n",
    "\n"
   ]
  },
  {
   "cell_type": "code",
   "execution_count": null,
   "metadata": {
    "deletable": false,
    "nbgrader": {
     "cell_type": "code",
     "checksum": "e2c183806eac0b19842a993255dce1fe",
     "grade": false,
     "grade_id": "cell-db7e411bbc3c89a1",
     "locked": false,
     "schema_version": 3,
     "solution": true
    }
   },
   "outputs": [],
   "source": [
    "# YOUR CODE HERE\n",
    "raise NotImplementedError()"
   ]
  },
  {
   "cell_type": "code",
   "execution_count": null,
   "metadata": {
    "deletable": false,
    "editable": false,
    "nbgrader": {
     "cell_type": "code",
     "checksum": "add680b4e43ec0e400c186fa68e12990",
     "grade": true,
     "grade_id": "3-a",
     "locked": true,
     "points": 10,
     "schema_version": 3,
     "solution": false
    }
   },
   "outputs": [],
   "source": []
  },
  {
   "cell_type": "markdown",
   "metadata": {
    "deletable": false,
    "editable": false,
    "nbgrader": {
     "cell_type": "markdown",
     "checksum": "f6d11847af5ad48252422cb8602a2da2",
     "grade": false,
     "grade_id": "cell-67176616f7ac0790",
     "locked": true,
     "schema_version": 3,
     "solution": false
    }
   },
   "source": [
    "b) In the same figure, plot:\n",
    "\n",
    "* The data,\n",
    "* The linear regression curve, and \n",
    "* The quadratic regression curve.\n",
    "\n",
    "The plot must contain:\n",
    "\n",
    "* Title\n",
    "* Label in x-axis\n",
    "* Label in y-axis with units\n",
    "* Legend for the linear regression and quadratic regression."
   ]
  },
  {
   "cell_type": "code",
   "execution_count": null,
   "metadata": {
    "deletable": false,
    "nbgrader": {
     "cell_type": "code",
     "checksum": "5fa661484517f3a3d983fbaf57468285",
     "grade": false,
     "grade_id": "cell-9a8f870c675293c9",
     "locked": false,
     "schema_version": 3,
     "solution": true
    }
   },
   "outputs": [],
   "source": [
    "# YOUR CODE HERE\n",
    "raise NotImplementedError()"
   ]
  },
  {
   "cell_type": "code",
   "execution_count": null,
   "metadata": {
    "deletable": false,
    "editable": false,
    "nbgrader": {
     "cell_type": "code",
     "checksum": "ce62c44f40ac0d6251d3b0e700601df0",
     "grade": true,
     "grade_id": "3-b_plot",
     "locked": true,
     "points": 10,
     "schema_version": 3,
     "solution": false
    }
   },
   "outputs": [],
   "source": []
  },
  {
   "cell_type": "markdown",
   "metadata": {
    "deletable": false,
    "editable": false,
    "nbgrader": {
     "cell_type": "markdown",
     "checksum": "ebde9c4bedd41ba078a123d669b890f7",
     "grade": false,
     "grade_id": "cell-09f4c53aa623d41c",
     "locked": true,
     "schema_version": 3,
     "solution": false
    }
   },
   "source": [
    "# Exercise 4"
   ]
  },
  {
   "cell_type": "markdown",
   "metadata": {
    "deletable": false,
    "editable": false,
    "nbgrader": {
     "cell_type": "markdown",
     "checksum": "dd893ac585bccb4a8fdfc45ae66fe3bd",
     "grade": false,
     "grade_id": "cell-b29595e02e5e955e",
     "locked": true,
     "schema_version": 3,
     "solution": false
    }
   },
   "source": [
    "a) Compute the deviations between the original data and the estimated values of $CO_2$ concentration obtained using the quadratic regression. The deviations are computed by subtracting the estimated values from the original data (data - estimation). The result has to be a NumPy array named `error_quad`, computed without using `for` statment. "
   ]
  },
  {
   "cell_type": "code",
   "execution_count": null,
   "metadata": {
    "deletable": false,
    "nbgrader": {
     "cell_type": "code",
     "checksum": "04c2016117bc52cbfec1aa5192fc5737",
     "grade": false,
     "grade_id": "cell-a8bc51a20f9f1852",
     "locked": false,
     "schema_version": 3,
     "solution": true
    }
   },
   "outputs": [],
   "source": [
    "# YOUR CODE HERE\n",
    "raise NotImplementedError()"
   ]
  },
  {
   "cell_type": "code",
   "execution_count": null,
   "metadata": {
    "deletable": false,
    "editable": false,
    "nbgrader": {
     "cell_type": "code",
     "checksum": "471a543f059ebdedc32e10f72929bcef",
     "grade": true,
     "grade_id": "4-a",
     "locked": true,
     "points": 5,
     "schema_version": 3,
     "solution": false
    }
   },
   "outputs": [],
   "source": []
  },
  {
   "cell_type": "markdown",
   "metadata": {
    "deletable": false,
    "editable": false,
    "nbgrader": {
     "cell_type": "markdown",
     "checksum": "c65873176e40448e8a62b8d89d2fc51c",
     "grade": false,
     "grade_id": "cell-8d7d32345ba6747e",
     "locked": true,
     "schema_version": 3,
     "solution": false
    }
   },
   "source": [
    "b) Plot the `year` vs `error_quad`.The plot must contain:\n",
    "\n",
    "* Title\n",
    "* Label in x-axis\n",
    "* Label in y-axis "
   ]
  },
  {
   "cell_type": "code",
   "execution_count": null,
   "metadata": {
    "deletable": false,
    "nbgrader": {
     "cell_type": "code",
     "checksum": "6d19f65756fafc5e16dd9aab30235d00",
     "grade": false,
     "grade_id": "cell-e18044ac75427e8a",
     "locked": false,
     "schema_version": 3,
     "solution": true
    }
   },
   "outputs": [],
   "source": [
    "# YOUR CODE HERE\n",
    "raise NotImplementedError()"
   ]
  },
  {
   "cell_type": "code",
   "execution_count": null,
   "metadata": {
    "deletable": false,
    "editable": false,
    "nbgrader": {
     "cell_type": "code",
     "checksum": "5e25aac2b227ff50a975646f2933e579",
     "grade": true,
     "grade_id": "4-b",
     "locked": true,
     "points": 5,
     "schema_version": 3,
     "solution": false
    }
   },
   "outputs": [],
   "source": []
  },
  {
   "cell_type": "markdown",
   "metadata": {
    "deletable": false,
    "editable": false,
    "nbgrader": {
     "cell_type": "markdown",
     "checksum": "b9596af917d06aef99be3379f23f8d76",
     "grade": false,
     "grade_id": "cell-a1dbfe4b0abc4994",
     "locked": true,
     "schema_version": 3,
     "solution": false
    }
   },
   "source": [
    "# Exercise 5\n",
    "\n",
    "Discuss what you observe in the plots obtained in exercises 2-b and 4-b, and what this might mean with respect to the chosen model to fit the data. \n",
    "### (Not graded)"
   ]
  },
  {
   "cell_type": "markdown",
   "metadata": {
    "deletable": false,
    "nbgrader": {
     "cell_type": "markdown",
     "checksum": "8e55a0721e5b04a877d228057aafdd13",
     "grade": true,
     "grade_id": "5-a_not_graded",
     "locked": false,
     "points": 0,
     "schema_version": 3,
     "solution": true
    }
   },
   "source": [
    "YOUR ANSWER HERE"
   ]
  },
  {
   "cell_type": "markdown",
   "metadata": {
    "deletable": false,
    "editable": false,
    "nbgrader": {
     "cell_type": "markdown",
     "checksum": "7021f2111f8fc3555d3bd1958aa885bd",
     "grade": false,
     "grade_id": "cell-bef30be29d38fe18",
     "locked": true,
     "schema_version": 3,
     "solution": false
    }
   },
   "source": [
    "### Life expectancy around the world\n",
    "\n",
    "We will be using data adapted from the [Gampinder Animation](https://python-graph-gallery.com/341-python-gapminder-animation/). The data consist in averages per continent of the life expectancy from 1952 until 2007. \n",
    "\n",
    "### Importing data\n",
    "\n",
    "In this case we will import our data in a multidimensional array. This array will have 12 rows and 6 columns. The first column correspond to the year and the remaining ones are the five continents. The order is as follow:\n",
    "\n",
    "`year, Africa, Americas, Asia, Europe, Oceania`"
   ]
  },
  {
   "cell_type": "code",
   "execution_count": null,
   "metadata": {},
   "outputs": [],
   "source": [
    "url_2 = 'https://raw.githubusercontent.com/engineersCode/EngComp1_offtheground/master/data/life_exp_avg_continent_year.csv'\n",
    "filename_2 = 'life_exp_avg_continent_year.csv'\n",
    "urlretrieve(url_2, filename_2)\n",
    "\n",
    "data = numpy.loadtxt(filename_2, delimiter=',', skiprows=1)"
   ]
  },
  {
   "cell_type": "code",
   "execution_count": null,
   "metadata": {},
   "outputs": [],
   "source": [
    "#Uncomment the following line and run the cell to inspect the data. \n",
    "#data"
   ]
  },
  {
   "cell_type": "markdown",
   "metadata": {
    "deletable": false,
    "editable": false,
    "nbgrader": {
     "cell_type": "markdown",
     "checksum": "3cd28ed09edf604410525f7a37670de3",
     "grade": false,
     "grade_id": "cell-19b39b296e3dee36",
     "locked": true,
     "schema_version": 3,
     "solution": false
    }
   },
   "source": [
    "## Exercise 6"
   ]
  },
  {
   "cell_type": "markdown",
   "metadata": {
    "deletable": false,
    "editable": false,
    "nbgrader": {
     "cell_type": "markdown",
     "checksum": "028d8d9ab5a2826ec45e272a709b13e4",
     "grade": false,
     "grade_id": "cell-344cbfc53897f023",
     "locked": true,
     "schema_version": 3,
     "solution": false
    }
   },
   "source": [
    "a) Write a function that takes as argument two `Numpy` arrays and uses the built-in Numpy regression functions to compute and return the coefficients `a1` and `a0`, and the fitting function `f_linear`, in that order. "
   ]
  },
  {
   "cell_type": "code",
   "execution_count": null,
   "metadata": {
    "deletable": false,
    "nbgrader": {
     "cell_type": "code",
     "checksum": "2274e79746cccd26220638fbeaca9e63",
     "grade": false,
     "grade_id": "cell-eb7f4a8a886daf6c",
     "locked": false,
     "schema_version": 3,
     "solution": true
    }
   },
   "outputs": [],
   "source": [
    "def linear_reg(year, continent):\n",
    "# YOUR CODE HERE\n",
    "raise NotImplementedError()"
   ]
  },
  {
   "cell_type": "code",
   "execution_count": null,
   "metadata": {
    "deletable": false,
    "editable": false,
    "nbgrader": {
     "cell_type": "code",
     "checksum": "f65d959312e1ff3a456c81a3288ebaee",
     "grade": true,
     "grade_id": "6-a",
     "locked": true,
     "points": 10,
     "schema_version": 3,
     "solution": false
    }
   },
   "outputs": [],
   "source": []
  },
  {
   "cell_type": "markdown",
   "metadata": {
    "deletable": false,
    "editable": false,
    "nbgrader": {
     "cell_type": "markdown",
     "checksum": "c6cc23e1ab002a420758bad49eac65bd",
     "grade": false,
     "grade_id": "cell-2a7e24e0005e6fbc",
     "locked": true,
     "schema_version": 3,
     "solution": false
    }
   },
   "source": [
    "b) Using the function defined in 6-a), write code that computes the linear regression coefficients `a1` and `a0`, and the function that performs the linear regression for each continent's life expectancy. You will append the coefficients and the function for each continent in lists named `a1_list`, `a0_list` and `f_lin_list` respectively.\n",
    "\n",
    "Hints:\n",
    "\n",
    "* Iterate over the continents using  a `for` statement. \n",
    "* Call the function defined in 1-a). \n",
    "* Append the variables obtained after calling the function to the corresponding lists.\n"
   ]
  },
  {
   "cell_type": "code",
   "execution_count": null,
   "metadata": {
    "deletable": false,
    "nbgrader": {
     "cell_type": "code",
     "checksum": "bff1e8023d1dbb41df041817a9ddf52c",
     "grade": false,
     "grade_id": "cell-d68755b45aaf2254",
     "locked": false,
     "schema_version": 3,
     "solution": true
    }
   },
   "outputs": [],
   "source": [
    "a1_list = list()\n",
    "a0_list = list()\n",
    "f_lin_list = list()\n",
    "\n",
    "# YOUR CODE HERE\n",
    "raise NotImplementedError()\n",
    "    "
   ]
  },
  {
   "cell_type": "code",
   "execution_count": null,
   "metadata": {
    "deletable": false,
    "editable": false,
    "nbgrader": {
     "cell_type": "code",
     "checksum": "8d54b8a08303fdb65bd6353314c1a3be",
     "grade": true,
     "grade_id": "6-b",
     "locked": true,
     "points": 15,
     "schema_version": 3,
     "solution": false
    }
   },
   "outputs": [],
   "source": []
  },
  {
   "cell_type": "markdown",
   "metadata": {
    "deletable": false,
    "editable": false,
    "nbgrader": {
     "cell_type": "markdown",
     "checksum": "60901167504261928cd62be1a2424bd7",
     "grade": false,
     "grade_id": "cell-b4e2e8fc31506eac",
     "locked": true,
     "schema_version": 3,
     "solution": false
    }
   },
   "source": [
    "c) Using the lists obtained in in 6-b) and using `for` statements, plot in the same figure the life expectancy vs years for each continent and their respective linear regression. For the purpose of legend, we give you a list that contains strings with the names of the continents. \n",
    "\n",
    "**Note:** For the linear regressions use the same color and line type, we recommend black. \n",
    "\n",
    "The plot must contain:\n",
    "\n",
    "* Title\n",
    "* Label in x-axis\n",
    "* Label in y-axis with units\n",
    "* Legend only for the continents not for the linear regressions.\n"
   ]
  },
  {
   "cell_type": "code",
   "execution_count": null,
   "metadata": {
    "deletable": false,
    "nbgrader": {
     "cell_type": "code",
     "checksum": "7120961f0a08dd0c16b6746590015849",
     "grade": false,
     "grade_id": "cell-f7605ac8794f5048",
     "locked": false,
     "schema_version": 3,
     "solution": true
    }
   },
   "outputs": [],
   "source": [
    "cont_list = ['Africa', 'Americas', 'Asia', 'Europe', 'Oceania']\n",
    "\n",
    "pyplot.figure(figsize=(12,8))\n",
    "\n",
    "# YOUR CODE HERE\n",
    "raise NotImplementedError()"
   ]
  },
  {
   "cell_type": "code",
   "execution_count": null,
   "metadata": {
    "deletable": false,
    "editable": false,
    "nbgrader": {
     "cell_type": "code",
     "checksum": "0e507dd2694bd9eacfc6dc0df5a74b65",
     "grade": true,
     "grade_id": "6-c_plot",
     "locked": true,
     "points": 10,
     "schema_version": 3,
     "solution": false
    }
   },
   "outputs": [],
   "source": []
  },
  {
   "cell_type": "markdown",
   "metadata": {
    "deletable": false,
    "editable": false,
    "nbgrader": {
     "cell_type": "markdown",
     "checksum": "924ee53f434a10ae916af1159b131fa4",
     "grade": false,
     "grade_id": "cell-59fd9e7da151333d",
     "locked": true,
     "schema_version": 3,
     "solution": false
    }
   },
   "source": [
    "## Remember!!\n",
    "\n",
    "Before you turn this problem in, make sure everything runs as expected. First, restart the kernel (in the menubar, select Kernel→→Restart) and then run all cells (in the menubar, select Cell→→Run All).\n",
    "\n",
    "Make sure you filled in any place that says YOUR CODE HERE or \"YOUR ANSWER HERE\", as well as your name at the beggining of the notebook."
   ]
  }
 ],
 "metadata": {
  "kernelspec": {
   "display_name": "Python 3",
   "language": "python",
   "name": "python3"
  },
  "language_info": {
   "codemirror_mode": {
    "name": "ipython",
    "version": 3
   },
   "file_extension": ".py",
   "mimetype": "text/x-python",
   "name": "python",
   "nbconvert_exporter": "python",
   "pygments_lexer": "ipython3",
   "version": "3.8.5"
  }
 },
 "nbformat": 4,
 "nbformat_minor": 2
}
